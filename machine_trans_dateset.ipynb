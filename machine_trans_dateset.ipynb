{
 "cells": [
  {
   "cell_type": "code",
   "id": "initial_id",
   "metadata": {
    "collapsed": true,
    "ExecuteTime": {
     "end_time": "2024-06-18T16:09:52.470562Z",
     "start_time": "2024-06-18T16:09:52.468514Z"
    }
   },
   "source": [
    "import os\n",
    "import torch\n",
    "from d2l import torch as d2l"
   ],
   "outputs": [],
   "execution_count": 5
  },
  {
   "metadata": {
    "ExecuteTime": {
     "end_time": "2024-06-18T16:09:52.526003Z",
     "start_time": "2024-06-18T16:09:52.471567Z"
    }
   },
   "cell_type": "code",
   "source": [
    "#@save\n",
    "d2l.DATA_HUB['fra-eng'] = (d2l.DATA_URL + 'fra-eng.zip',\n",
    "                           '94646ad1522d915e7b0f9296181140edcf86a4f5')\n",
    "#@save\n",
    "def read_data_nmt():\n",
    "    \"\"\"载入“英语－法语”数据集\"\"\"\n",
    "    data_dir = d2l.download_extract('fra-eng')\n",
    "    with open(os.path.join(data_dir, 'fra.txt'), 'r',\n",
    "             encoding='utf-8') as f:\n",
    "        return f.read()\n",
    "#raw是string变量\n",
    "raw_text = read_data_nmt()\n",
    "\n"
   ],
   "id": "9f7ad3d0fa108968",
   "outputs": [],
   "execution_count": 6
  },
  {
   "metadata": {
    "ExecuteTime": {
     "end_time": "2024-06-18T16:13:11.288730Z",
     "start_time": "2024-06-18T16:13:11.282597Z"
    }
   },
   "cell_type": "code",
   "source": [
    "#@save\n",
    "def preprocess_nmt(text):\n",
    "    \"\"\"预处理“英语－法语”数据集\"\"\"\n",
    "    def no_space(char, prev_char):\n",
    "        # 如果char是标点符号（逗号、句号、感叹号、问号）并且prev_char不是空格,\n",
    "        # 则这两个字符之间不应该有空间。\n",
    "        return char in set(',.!?') and prev_char != ' '\n",
    "    # <replace>使用空格替换不间断空格（\\u202f和\\xa0）\n",
    "    # <lower>使用小写字母替换大写字母\n",
    "    text = text.replace('\\u202f', ' ').replace('\\xa0', ' ').lower()\n",
    "    # 在单词和标点符号之间插入空格\n",
    "    out = [' ' + char if i > 0 and no_space(char, text[i - 1]) else char\n",
    "           for i, char in enumerate(text)]\n",
    "    print(out)\n",
    "    return ''.join(out)\n"
   ],
   "id": "2c4a07cd238f6899",
   "outputs": [],
   "execution_count": 15
  },
  {
   "metadata": {
    "ExecuteTime": {
     "end_time": "2024-06-18T16:13:45.258910Z",
     "start_time": "2024-06-18T16:13:12.635341Z"
    }
   },
   "cell_type": "code",
   "source": [
    "text = preprocess_nmt(raw_text)\n",
    "print(text[:80])"
   ],
   "id": "7f765a5ce5c2909d",
   "outputs": [
    {
     "ename": "KeyboardInterrupt",
     "evalue": "",
     "output_type": "error",
     "traceback": [
      "\u001B[0;31m---------------------------------------------------------------------------\u001B[0m",
      "\u001B[0;31mKeyboardInterrupt\u001B[0m                         Traceback (most recent call last)",
      "    \u001B[0;31m[... skipping hidden 1 frame]\u001B[0m\n",
      "Cell \u001B[0;32mIn[16], line 1\u001B[0m\n\u001B[0;32m----> 1\u001B[0m text \u001B[38;5;241m=\u001B[39m \u001B[43mpreprocess_nmt\u001B[49m\u001B[43m(\u001B[49m\u001B[43mraw_text\u001B[49m\u001B[43m)\u001B[49m\n\u001B[1;32m      2\u001B[0m \u001B[38;5;28mprint\u001B[39m(text[:\u001B[38;5;241m80\u001B[39m])\n",
      "Cell \u001B[0;32mIn[15], line 12\u001B[0m, in \u001B[0;36mpreprocess_nmt\u001B[0;34m(text)\u001B[0m\n\u001B[1;32m     11\u001B[0m \u001B[38;5;66;03m# 在单词和标点符号之间插入空格\u001B[39;00m\n\u001B[0;32m---> 12\u001B[0m out \u001B[38;5;241m=\u001B[39m [\u001B[38;5;124m'\u001B[39m\u001B[38;5;124m \u001B[39m\u001B[38;5;124m'\u001B[39m \u001B[38;5;241m+\u001B[39m char \u001B[38;5;28;01mif\u001B[39;00m i \u001B[38;5;241m>\u001B[39m \u001B[38;5;241m0\u001B[39m \u001B[38;5;129;01mand\u001B[39;00m no_space(char, text[i \u001B[38;5;241m-\u001B[39m \u001B[38;5;241m1\u001B[39m]) \u001B[38;5;28;01melse\u001B[39;00m char\n\u001B[1;32m     13\u001B[0m        \u001B[38;5;28;01mfor\u001B[39;00m i, char \u001B[38;5;129;01min\u001B[39;00m \u001B[38;5;28menumerate\u001B[39m(text)]\n\u001B[1;32m     14\u001B[0m \u001B[38;5;28mprint\u001B[39m(out)\n",
      "Cell \u001B[0;32mIn[15], line 12\u001B[0m, in \u001B[0;36m<listcomp>\u001B[0;34m(.0)\u001B[0m\n\u001B[1;32m     11\u001B[0m \u001B[38;5;66;03m# 在单词和标点符号之间插入空格\u001B[39;00m\n\u001B[0;32m---> 12\u001B[0m out \u001B[38;5;241m=\u001B[39m [\u001B[38;5;124m'\u001B[39m\u001B[38;5;124m \u001B[39m\u001B[38;5;124m'\u001B[39m \u001B[38;5;241m+\u001B[39m char \u001B[38;5;28;01mif\u001B[39;00m i \u001B[38;5;241m>\u001B[39m \u001B[38;5;241m0\u001B[39m \u001B[38;5;129;01mand\u001B[39;00m \u001B[43mno_space\u001B[49m\u001B[43m(\u001B[49m\u001B[43mchar\u001B[49m\u001B[43m,\u001B[49m\u001B[43m \u001B[49m\u001B[43mtext\u001B[49m\u001B[43m[\u001B[49m\u001B[43mi\u001B[49m\u001B[43m \u001B[49m\u001B[38;5;241;43m-\u001B[39;49m\u001B[43m \u001B[49m\u001B[38;5;241;43m1\u001B[39;49m\u001B[43m]\u001B[49m\u001B[43m)\u001B[49m \u001B[38;5;28;01melse\u001B[39;00m char\n\u001B[1;32m     13\u001B[0m        \u001B[38;5;28;01mfor\u001B[39;00m i, char \u001B[38;5;129;01min\u001B[39;00m \u001B[38;5;28menumerate\u001B[39m(text)]\n\u001B[1;32m     14\u001B[0m \u001B[38;5;28mprint\u001B[39m(out)\n",
      "Cell \u001B[0;32mIn[15], line 4\u001B[0m, in \u001B[0;36mpreprocess_nmt.<locals>.no_space\u001B[0;34m(char, prev_char)\u001B[0m\n\u001B[1;32m      3\u001B[0m \u001B[38;5;250m\u001B[39m\u001B[38;5;124;03m\"\"\"预处理“英语－法语”数据集\"\"\"\u001B[39;00m\n\u001B[0;32m----> 4\u001B[0m \u001B[38;5;28;01mdef\u001B[39;00m \u001B[38;5;21mno_space\u001B[39m(char, prev_char):\n\u001B[1;32m      5\u001B[0m     \u001B[38;5;66;03m# 如果char是标点符号（逗号、句号、感叹号、问号）并且prev_char不是空格,\u001B[39;00m\n\u001B[1;32m      6\u001B[0m     \u001B[38;5;66;03m# 则这两个字符之间不应该有空间。\u001B[39;00m\n\u001B[1;32m      7\u001B[0m     \u001B[38;5;28;01mreturn\u001B[39;00m char \u001B[38;5;129;01min\u001B[39;00m \u001B[38;5;28mset\u001B[39m(\u001B[38;5;124m'\u001B[39m\u001B[38;5;124m,.!?\u001B[39m\u001B[38;5;124m'\u001B[39m) \u001B[38;5;129;01mand\u001B[39;00m prev_char \u001B[38;5;241m!=\u001B[39m \u001B[38;5;124m'\u001B[39m\u001B[38;5;124m \u001B[39m\u001B[38;5;124m'\u001B[39m\n",
      "File \u001B[0;32m~/pycharm-2024.1.3/plugins/python/helpers/pydev/_pydevd_bundle/pydevd_trace_dispatch_regular.py:366\u001B[0m, in \u001B[0;36mThreadTracer.__call__\u001B[0;34m(self, frame, event, arg)\u001B[0m\n\u001B[1;32m    364\u001B[0m \u001B[38;5;66;03m# ENDIF\u001B[39;00m\n\u001B[0;32m--> 366\u001B[0m     \u001B[38;5;28;01mdef\u001B[39;00m \u001B[38;5;21m__call__\u001B[39m(\u001B[38;5;28mself\u001B[39m, frame, event, arg):\n\u001B[1;32m    367\u001B[0m \u001B[38;5;250m        \u001B[39m\u001B[38;5;124;03m''' This is the callback used when we enter some context in the debugger.\u001B[39;00m\n\u001B[1;32m    368\u001B[0m \n\u001B[1;32m    369\u001B[0m \u001B[38;5;124;03m        We also decorate the thread we are in with info about the debugging.\u001B[39;00m\n\u001B[0;32m   (...)\u001B[0m\n\u001B[1;32m    377\u001B[0m \u001B[38;5;124;03m            This is the global debugger (this method should actually be added as a method to it).\u001B[39;00m\n\u001B[1;32m    378\u001B[0m \u001B[38;5;124;03m        '''\u001B[39;00m\n",
      "\u001B[0;31mKeyboardInterrupt\u001B[0m: ",
      "\nDuring handling of the above exception, another exception occurred:\n",
      "\u001B[0;31mKeyboardInterrupt\u001B[0m                         Traceback (most recent call last)",
      "\u001B[0;31mKeyboardInterrupt\u001B[0m: "
     ]
    }
   ],
   "execution_count": 16
  },
  {
   "metadata": {
    "ExecuteTime": {
     "end_time": "2024-06-18T16:09:54.139189Z",
     "start_time": "2024-06-18T16:09:54.137585Z"
    }
   },
   "cell_type": "code",
   "source": "",
   "id": "f203f16a508611a9",
   "outputs": [],
   "execution_count": 8
  }
 ],
 "metadata": {
  "kernelspec": {
   "display_name": "Python 3",
   "language": "python",
   "name": "python3"
  },
  "language_info": {
   "codemirror_mode": {
    "name": "ipython",
    "version": 2
   },
   "file_extension": ".py",
   "mimetype": "text/x-python",
   "name": "python",
   "nbconvert_exporter": "python",
   "pygments_lexer": "ipython2",
   "version": "2.7.6"
  }
 },
 "nbformat": 4,
 "nbformat_minor": 5
}
